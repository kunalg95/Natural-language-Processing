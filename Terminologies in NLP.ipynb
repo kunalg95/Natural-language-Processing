{
 "cells": [
  {
   "cell_type": "markdown",
   "metadata": {},
   "source": [
    "### Tokenization\n",
    "\n",
    "* Tokenization is the first step in NLP. It is the process of breaking strings into tokens which in turn are small structures<br/>\n",
    "   or units. Tokenization involves three steps which are breaking a complex sentence into words, understanding the importance<br/> \n",
    "   of each word with respect to the sentence and finally produce structural description on an input sentence."
   ]
  },
  {
   "cell_type": "code",
   "execution_count": 1,
   "metadata": {},
   "outputs": [],
   "source": [
    "#Importing necessary library\n",
    "\n",
    "import numpy as np\n",
    "import pandas as pd\n",
    "# Natural Language Toolkit(Suite of libraries),It contains text processing libraries for tokenization, parsing, classification, \n",
    "# stemming, tagging and semantic reasoning.\n",
    "import nltk\n",
    "# OS module in python provides functions for interacting with the operating system.\n",
    "import os\n",
    "# Module contents. The modules in this package provide functions that can be used to read corpus files in a variety of formats.\n",
    "import nltk.corpus"
   ]
  },
  {
   "cell_type": "code",
   "execution_count": 2,
   "metadata": {},
   "outputs": [
    {
     "name": "stdout",
     "output_type": "stream",
     "text": [
      "['In', 'Brazil', 'they', 'drive', 'on', 'the', 'right-hand', 'side', 'of', 'the', 'road', '.', 'Brazil', 'has', 'a', 'large', 'coastline', 'on', 'the', 'eastern', 'side', 'of', 'South', 'America']\n"
     ]
    }
   ],
   "source": [
    "# sample text for performing tokenization\n",
    "text = \"In Brazil they drive on the right-hand side of the road. Brazil has a large coastline on the eastern side of South America\"\n",
    "\n",
    "# importing word_tokenize from nltk\n",
    "from nltk.tokenize import word_tokenize\n",
    "\n",
    "# Passing the string text into word tokenize for breaking the sentences\n",
    "token = word_tokenize(text)\n",
    "print(token)"
   ]
  },
  {
   "cell_type": "markdown",
   "metadata": {},
   "source": [
    "* From the above output, we can see the text split into tokens. Words, comma, punctuations are called tokens."
   ]
  },
  {
   "cell_type": "markdown",
   "metadata": {},
   "source": [
    "### Finding frequency distinct in the text"
   ]
  },
  {
   "cell_type": "code",
   "execution_count": 3,
   "metadata": {},
   "outputs": [
    {
     "data": {
      "text/plain": [
       "FreqDist({'the': 3, 'Brazil': 2, 'on': 2, 'side': 2, 'of': 2, 'In': 1, 'they': 1, 'drive': 1, 'right-hand': 1, 'road': 1, ...})"
      ]
     },
     "execution_count": 3,
     "metadata": {},
     "output_type": "execute_result"
    }
   ],
   "source": [
    "# finding the frequency distinct in the tokens\n",
    "# Importing FreqDist library from nltk and passing token into FreqDist\n",
    "from nltk.probability import FreqDist\n",
    "fdist = FreqDist(token)\n",
    "fdist"
   ]
  },
  {
   "cell_type": "code",
   "execution_count": 4,
   "metadata": {},
   "outputs": [
    {
     "data": {
      "text/plain": [
       "[('the', 3),\n",
       " ('Brazil', 2),\n",
       " ('on', 2),\n",
       " ('side', 2),\n",
       " ('of', 2),\n",
       " ('In', 1),\n",
       " ('they', 1),\n",
       " ('drive', 1),\n",
       " ('right-hand', 1),\n",
       " ('road', 1)]"
      ]
     },
     "execution_count": 4,
     "metadata": {},
     "output_type": "execute_result"
    }
   ],
   "source": [
    "# To find the frequency of top 10 words\n",
    "fdist1 = fdist.most_common(10)\n",
    "fdist1"
   ]
  },
  {
   "cell_type": "markdown",
   "metadata": {},
   "source": [
    "### Stemming\n",
    "\n",
    "* Stemming usually refers to normalizing words into its base form or root form.\n",
    "* Here, we have words waited, waiting and waits. Here the root word is ‘wait’. There are two methods in Stemming namely: \n",
    "    * Porter Stemming (removes common morphological and inflectional endings from words).\n",
    "    * Lancaster Stemming (a more aggressive stemming algorithm)."
   ]
  },
  {
   "cell_type": "code",
   "execution_count": 5,
   "metadata": {},
   "outputs": [
    {
     "data": {
      "text/plain": [
       "'retriev'"
      ]
     },
     "execution_count": 5,
     "metadata": {},
     "output_type": "execute_result"
    }
   ],
   "source": [
    "# Importing Porterstemmer from nltk library\n",
    "# Checking for the word ‘compounded’ \n",
    "from nltk.stem import PorterStemmer\n",
    "pst = PorterStemmer()\n",
    "pst.stem('retrieval')"
   ]
  },
  {
   "cell_type": "markdown",
   "metadata": {},
   "source": [
    "A consonant in a word is a letter other than A, E, I, O or U, and other than Y preceded by a consonant. (The fact that the term ‘consonant’ is defined to some extent in terms of itself does not make it ambiguous.) So in TOY the consonants are T and Y, and in SYZYGY they are S, Z and G. If a letter is not a consonant it is a vowel.\n",
    "\n",
    "A consonant will be denoted by c, a vowel by v. A list ccc... of length greater than 0 will be denoted by C, and a list vvv... of length greater than 0 will be denoted by V. Any word, or part of a word, therefore has one of the four forms:\n",
    "CVCV ... C\n",
    "CVCV ... V\n",
    "VCVC ... C\n",
    "VCVC ... V\n",
    "These may all be represented by the single form\n",
    "[C]VCVC ... [V]\n",
    "where the square brackets denote arbitrary presence of their contents. Using (VC)m to denote VC repeated m times, this may again be written as\n",
    "[C](VC)m[V].\n",
    "m will be called the measure of any word or word part when represented in this form. The case m = 0 covers the null word. Here are some examples:\n",
    "m=0\t\tTR,   EE,   TREE,   Y,   BY.\n",
    "m=1\t\tTROUBLE,   OATS,   TREES,   IVY.\n",
    "m=2\t\tTROUBLES,   PRIVATE,   OATEN,   ORRERY.\n",
    "\n",
    "Most of the rules for suffix removal involve leaving behind a stem whose measure exceeds some value, for example,\n",
    "(m > 0) eed -> ee\n",
    "means ‘replace eed with ee if the stem before eed has measure m > 0’. Implementations of the Porter stemmer usually have a routine that computes m each time there is a possible candidate for removal."
   ]
  },
  {
   "cell_type": "code",
   "execution_count": 6,
   "metadata": {},
   "outputs": [
    {
     "name": "stdout",
     "output_type": "stream",
     "text": [
      "waited:wait\n",
      "waiting:wait\n",
      "waits:wait\n"
     ]
    }
   ],
   "source": [
    "# Checking for the list of words\n",
    "stm = [\"waited\",\"waiting\",\"waits\"]\n",
    "for word in stm:\n",
    "    print(word + \":\" + pst.stem(word))"
   ]
  },
  {
   "cell_type": "code",
   "execution_count": 7,
   "metadata": {},
   "outputs": [
    {
     "name": "stdout",
     "output_type": "stream",
     "text": [
      "giving:giv\n",
      "given:giv\n",
      "given:giv\n",
      "gave:gav\n"
     ]
    }
   ],
   "source": [
    "# Importing LancasterStemmer from nltk\n",
    "from nltk.stem import LancasterStemmer\n",
    "lst = LancasterStemmer()\n",
    "stm = [\"giving\", \"given\", \"given\", \"gave\"]\n",
    "for word in stm :\n",
    " print(word + \":\" + lst.stem(word))"
   ]
  },
  {
   "cell_type": "code",
   "execution_count": 8,
   "metadata": {},
   "outputs": [],
   "source": [
    "# Importing porter2stemmer from porter2stemmer\n",
    "#[Module?]\n",
    "#stem = Porter2Stemmer()\n",
    "#stm = [\"giving\", \"given\", \"given\", \"gave\"]\n",
    "#for word in stm :\n",
    "# print(word + \":\" + stem(word))"
   ]
  },
  {
   "cell_type": "markdown",
   "metadata": {},
   "source": [
    "#### Errors in Stemming:\n",
    "There are mainly two errors in stemming – Overstemming and Understemming. Overstemming occurs when two words are stemmed to \n",
    "same root that are of different stems. Under-stemming occurs when two words are stemmed to same root that are not of different \n",
    "stems.\n",
    "\n",
    "#### Applications of stemming are:\n",
    "\n",
    "* Stemming is used in information retrieval systems like search engines.\n",
    "* It is used to determine domain vocabularies in domain analysis."
   ]
  },
  {
   "cell_type": "markdown",
   "metadata": {},
   "source": [
    "### Lemmatization"
   ]
  },
  {
   "cell_type": "code",
   "execution_count": 9,
   "metadata": {},
   "outputs": [
    {
     "data": {
      "image/png": "[encoded data removed]",
      "text/plain": [
       "<IPython.core.display.Image object>"
      ]
     },
     "execution_count": 9,
     "metadata": {},
     "output_type": "execute_result"
    }
   ],
   "source": [
    "from IPython.display import Image\n",
    "Image(filename='Lemmatization.png')"
   ]
  },
  {
   "cell_type": "markdown",
   "metadata": {},
   "source": [
    "In simpler terms, it is the process of converting a word to its base form. The difference between stemming and lemmatization is,\n",
    "lemmatization considers the context and converts the word to its meaningful base form, whereas stemming just removes the last \n",
    "few characters, often leading to incorrect meanings and spelling errors.\n",
    "\n",
    "For example, lemmatization would correctly identify the base form of ‘caring’ to ‘care’, whereas, stemming would cutoff the ‘ing’ part and convert it to car.\n",
    "**Lemmatization can be implemented in python by using Wordnet Lemmatizer, Spacy Lemmatizer, TextBlob, Stanford CoreNLP.**"
   ]
  },
  {
   "cell_type": "code",
   "execution_count": 10,
   "metadata": {},
   "outputs": [
    {
     "name": "stdout",
     "output_type": "stream",
     "text": [
      "rocks : rock\n",
      "corpora : corpus\n"
     ]
    }
   ],
   "source": [
    "# Importing Lemmatizer library from nltk\n",
    "from nltk.stem import WordNetLemmatizer\n",
    "lemmatizer = WordNetLemmatizer() \n",
    " \n",
    "print(\"rocks :\", lemmatizer.lemmatize(\"rocks\")) \n",
    "print(\"corpora :\", lemmatizer.lemmatize(\"corpora\"))"
   ]
  },
  {
   "cell_type": "markdown",
   "metadata": {},
   "source": [
    "### Stop Words\n",
    "\n",
    "“Stop words” are the most common words in a language like “the”, “a”, “at”, “for”, “above”, “on”, “is”, “all”. \n",
    "These words do not provide any meaning and are usually removed from texts. We can remove these stop words using nltk library."
   ]
  },
  {
   "cell_type": "code",
   "execution_count": 11,
   "metadata": {},
   "outputs": [
    {
     "name": "stdout",
     "output_type": "stream",
     "text": [
      "Output of tokenization:\n",
      "['Cristiano', 'Ronaldo', 'was', 'born', 'on', 'February', '5', ',', '1985', ',', 'in', 'Funchal', ',', 'Madeira', ',', 'Portugal', '.']\n",
      "\n",
      "Output of stopwords:\n",
      "['Cristiano', 'Ronaldo', 'born', 'February', '5', ',', '1985', ',', 'Funchal', ',', 'Madeira', ',', 'Portugal', '.']\n"
     ]
    }
   ],
   "source": [
    "# importing stopwors from nltk library\n",
    "from nltk.tokenize import word_tokenize\n",
    "from nltk.corpus import stopwords\n",
    "a = set(stopwords.words('english'))\n",
    "\n",
    "text = \"Cristiano Ronaldo was born on February 5, 1985, in Funchal, Madeira, Portugal.\"\n",
    "\n",
    "print(\"Output of tokenization:\")\n",
    "text1 = word_tokenize(text)\n",
    "print(text1)\n",
    "\n",
    "print()\n",
    "print(\"Output of stopwords:\")\n",
    "stopwords = [x for x in text1 if x not in a]\n",
    "print(stopwords)"
   ]
  },
  {
   "cell_type": "code",
   "execution_count": 12,
   "metadata": {},
   "outputs": [
    {
     "data": {
      "text/plain": [
       "179"
      ]
     },
     "execution_count": 12,
     "metadata": {},
     "output_type": "execute_result"
    }
   ],
   "source": [
    "# Total number of stopwords present in a dictionary\n",
    "len(a)"
   ]
  },
  {
   "cell_type": "code",
   "execution_count": 13,
   "metadata": {},
   "outputs": [
    {
     "name": "stdout",
     "output_type": "stream",
     "text": [
      "Counter({'be': 1, 'until': 1, 'itself': 1, 'will': 1, 'any': 1, \"don't\": 1, 'few': 1, 'their': 1, 'some': 1, 'but': 1, 'am': 1, 'under': 1, 'each': 1, 'such': 1, 'was': 1, \"needn't\": 1, 'up': 1, 'in': 1, 'off': 1, 'yourselves': 1, 'mustn': 1, \"couldn't\": 1, 'just': 1, 'those': 1, 'why': 1, 'doesn': 1, \"won't\": 1, 'against': 1, 'for': 1, 'theirs': 1, 'most': 1, 'here': 1, \"didn't\": 1, 'and': 1, 'her': 1, 'through': 1, 'what': 1, 'after': 1, 'him': 1, 'this': 1, 'our': 1, 'hadn': 1, \"hasn't\": 1, 'needn': 1, 'of': 1, 'very': 1, 'm': 1, 'to': 1, 'hasn': 1, 'shouldn': 1, 'didn': 1, 'more': 1, 'do': 1, 'too': 1, 'mightn': 1, 'she': 1, 'the': 1, \"you're\": 1, 'isn': 1, 'yourself': 1, 'which': 1, 'yours': 1, \"mustn't\": 1, 'them': 1, 'with': 1, 'weren': 1, 'd': 1, 'i': 1, 'wouldn': 1, \"aren't\": 1, 'his': 1, 'he': 1, 'hers': 1, 'a': 1, \"it's\": 1, 'while': 1, \"mightn't\": 1, \"isn't\": 1, 'has': 1, 'out': 1, 'at': 1, 'does': 1, 'about': 1, \"wouldn't\": 1, 'me': 1, \"you'd\": 1, 'ours': 1, \"weren't\": 1, 'doing': 1, 'should': 1, 'where': 1, 'herself': 1, 'other': 1, 'y': 1, 'how': 1, 'whom': 1, \"that'll\": 1, 'they': 1, 's': 1, 'during': 1, 'there': 1, 'same': 1, \"wasn't\": 1, 'your': 1, 'having': 1, 'nor': 1, 'o': 1, 'an': 1, 'or': 1, 'then': 1, 've': 1, 'you': 1, 'when': 1, 'because': 1, 'once': 1, 'll': 1, 'being': 1, 'both': 1, 'we': 1, 'don': 1, 'couldn': 1, 'own': 1, 'can': 1, 'been': 1, 'from': 1, 'only': 1, 'so': 1, \"should've\": 1, 'my': 1, 'as': 1, 'again': 1, 'had': 1, 'who': 1, 'not': 1, \"hadn't\": 1, 'did': 1, 't': 1, 'myself': 1, 'further': 1, 'now': 1, 'all': 1, 'than': 1, 'no': 1, 'himself': 1, 'are': 1, 'themselves': 1, \"you'll\": 1, 'if': 1, \"doesn't\": 1, 'into': 1, 'its': 1, 'above': 1, 'aren': 1, 'won': 1, 'were': 1, 'by': 1, 'below': 1, \"shouldn't\": 1, \"she's\": 1, 'down': 1, 're': 1, 'ma': 1, 'on': 1, 'wasn': 1, 'before': 1, 'between': 1, \"shan't\": 1, 'ourselves': 1, 'ain': 1, 'it': 1, 'these': 1, \"haven't\": 1, 'that': 1, 'is': 1, \"you've\": 1, 'over': 1, 'haven': 1, 'have': 1, 'shan': 1})\n"
     ]
    }
   ],
   "source": [
    "#Occurances of each word in dictionary variable\n",
    "from collections import Counter\n",
    "print(Counter(a))                "
   ]
  },
  {
   "cell_type": "markdown",
   "metadata": {},
   "source": [
    "### Part of speech tagging (POS)"
   ]
  },
  {
   "cell_type": "code",
   "execution_count": 14,
   "metadata": {},
   "outputs": [
    {
     "data": {
      "image/png": "[encoded data removed]",
      "text/plain": [
       "<IPython.core.display.Image object>"
      ]
     },
     "execution_count": 14,
     "metadata": {},
     "output_type": "execute_result"
    }
   ],
   "source": [
    "from IPython.display import Image\n",
    "Image(filename=\"POS.png\")"
   ]
  },
  {
   "cell_type": "markdown",
   "metadata": {},
   "source": [
    "Part-of-speech tagging is used to assign parts of speech to each word of a given text (such as nouns, verbs, pronouns,\n",
    "adverbs, conjunction, adjectives, interjection) based on its definition and its context. There are many tools available \n",
    "for POS taggers and some of the widely used taggers are NLTK, Spacy, TextBlob, Standford CoreNLP, etc."
   ]
  },
  {
   "cell_type": "code",
   "execution_count": 15,
   "metadata": {},
   "outputs": [
    {
     "name": "stdout",
     "output_type": "stream",
     "text": [
      "[('vote', 'NN')]\n",
      "[('to', 'TO')]\n",
      "[('choose', 'NN')]\n",
      "[('a', 'DT')]\n",
      "[('particular', 'JJ')]\n",
      "[('man', 'NN')]\n",
      "[('or', 'CC')]\n",
      "[('a', 'DT')]\n",
      "[('group', 'NN')]\n",
      "[('(', '(')]\n",
      "[('party', 'NN')]\n",
      "[(')', ')')]\n",
      "[('to', 'TO')]\n",
      "[('represent', 'NN')]\n",
      "[('them', 'PRP')]\n",
      "[('in', 'IN')]\n",
      "[('parliament', 'NN')]\n"
     ]
    }
   ],
   "source": [
    "text = \"vote to choose a particular man or a group (party) to represent them in parliament\"\n",
    "#Tokenize the text\n",
    "tex = word_tokenize(text)\n",
    "for token in tex:\n",
    "    print(nltk.pos_tag([token]))"
   ]
  },
  {
   "cell_type": "markdown",
   "metadata": {},
   "source": [
    "**Here’s a list of the tags, what they mean, and some examples:**\n",
    "* CC coordinating conjunction\n",
    "* CD cardinal digit\n",
    "* DT determiner\n",
    "* EX existential there (like: “there is” … think of it like “there exists”)\n",
    "* FW foreign word\n",
    "* IN preposition/subordinating conjunction\n",
    "* JJ adjective ‘big’\n",
    "* JJR adjective, comparative ‘bigger’\n",
    "* JJS adjective, superlative ‘biggest’\n",
    "* LS list marker 1)\n",
    "* MD modal could, will\n",
    "* NN noun, singular ‘desk’\n",
    "* NNS noun plural ‘desks’\n",
    "* NNP proper noun, singular ‘Harrison’\n",
    "* NNPS proper noun, plural ‘Americans’\n",
    "* PDT predeterminer ‘all the kids’\n",
    "* POS possessive ending parent‘s\n",
    "* PRP personal pronoun I, he, she\n",
    "* PRP possessive pronoun my, his, hers\n",
    "* RB adverb very, silently,\n",
    "* RBR adverb, comparative better\n",
    "* RBS adverb, superlative best\n",
    "* RP particle give up\n",
    "* TO to go ‘to‘ the store.\n",
    "* UH interjection errrrrrrrm\n",
    "* VB verb, base form take\n",
    "* VBD verb, past tense took\n",
    "* VBG verb, gerund/present participle taking\n",
    "* VBN verb, past participle taken\n",
    "* VBP verb, sing. present, non-3d take\n",
    "* VBZ verb, 3rd person sing. present takes\n",
    "* WDT wh-determiner which\n",
    "* WP wh-pronoun who, what\n",
    "* WP possessive wh-pronoun whose\n",
    "* WRB wh-abverb where, when"
   ]
  },
  {
   "cell_type": "markdown",
   "metadata": {},
   "source": [
    "### Named entity recognition\n",
    "\n",
    "It is the process of detecting the named entities such as the person name, the location name, the company name, \n",
    "the quantities and the monetary value."
   ]
  },
  {
   "cell_type": "code",
   "execution_count": 16,
   "metadata": {},
   "outputs": [
    {
     "data": {
      "image/png": "[encoded data removed]",
      "text/plain": [
       "<IPython.core.display.Image object>"
      ]
     },
     "execution_count": 16,
     "metadata": {},
     "output_type": "execute_result"
    }
   ],
   "source": [
    "from IPython.display import Image\n",
    "Image(filename=\"NER.png\")"
   ]
  },
  {
   "cell_type": "code",
   "execution_count": 17,
   "metadata": {},
   "outputs": [],
   "source": [
    "text = \"Google’s CEO Sundar Pichai introduced the new Pixel at Minnesota Roi Centre Event\"\n",
    "#importing chunk library from nltk\n",
    "from nltk import ne_chunk\n",
    "# tokenize and POS Tagging before doing chunk\n",
    "token = word_tokenize(text)\n",
    "tags = nltk.pos_tag(token)\n",
    "chunk = nltk.ne_chunk(tags) # named entity chunker to chunk the given list of tagged tokens.\n",
    "#NE = [\" \".join(w for w, t in ele) for ele in chunk if isinstance(ele, nltk.Tree)]\n",
    "#print(NE)\n",
    "#chunk"
   ]
  },
  {
   "cell_type": "markdown",
   "metadata": {},
   "source": [
    "**Output of above block as below:**\n",
    "\n",
    "Tree('S', [Tree('PERSON', [('Google', 'NNP')]), ('’', 'NNP'), ('s', 'VBD'), Tree('ORGANIZATION', [('CEO', 'NNP'), \n",
    "('Sundar', 'NNP'), ('Pichai', 'NNP')]), ('introduced', 'VBD'), ('the', 'DT'), ('new', 'JJ'), ('Pixel', 'NNP'), ('at', 'IN'), \n",
    "Tree('ORGANIZATION', [('Minnesota', 'NNP'), ('Roi', 'NNP'), ('Centre', 'NNP')]), ('Event', 'NNP')])."
   ]
  },
  {
   "cell_type": "markdown",
   "metadata": {},
   "source": [
    "### Chunking\n",
    "\n",
    "Chunking means picking up individual pieces of information and grouping them into bigger pieces. In the context of NLP \n",
    "and text mining, chunking means a grouping of words or tokens into chunks."
   ]
  },
  {
   "cell_type": "code",
   "execution_count": 18,
   "metadata": {},
   "outputs": [
    {
     "data": {
      "image/png": "[encoded data removed]",
      "text/plain": [
       "<IPython.core.display.Image object>"
      ]
     },
     "execution_count": 18,
     "metadata": {},
     "output_type": "execute_result"
    }
   ],
   "source": [
    "from IPython.display import Image\n",
    "Image(filename=\"Chunking.png\")"
   ]
  },
  {
   "cell_type": "code",
   "execution_count": 19,
   "metadata": {},
   "outputs": [
    {
     "name": "stdout",
     "output_type": "stream",
     "text": [
      "(S We/PRP saw/VBD (NP the/DT yellow/JJ dog/NN))\n"
     ]
    }
   ],
   "source": [
    "text = \"We saw the yellow dog\"\n",
    "token = word_tokenize(text)\n",
    "tags = nltk.pos_tag(token)\n",
    "reg = \"NP: {<DT>?<JJ>*<NN>}\"\n",
    "# regexp (str or regexp) – A regular expression matching the substring that should be replaced. This will typically \n",
    "# include a named group, which can be used by repl.\n",
    "a = nltk.RegexpParser(reg)\n",
    "# Return the best chunk structure for the given tokens and return a tree.\n",
    "# Parameters\n",
    "# tokens (list(tuple)) – The list of (word, tag) tokens to be chunked.\n",
    "result = a.parse(tags)\n",
    "print(result)"
   ]
  },
  {
   "cell_type": "markdown",
   "metadata": {},
   "source": [
    "Dividing sentences into non-overlapping phrases is called text chunking. \n",
    "NP chunking deals with a part of this task: it involves recognizing the chunks that consist of noun phrases (NPs)."
   ]
  },
  {
   "cell_type": "markdown",
   "metadata": {},
   "source": [
    "## NLP: Text Mining Algorithms\n",
    "\n",
    "** Explaining N-Grams, Bag Of Words (BoW) and Term Frequency-Inverse Document Frequency (TF-IDF) algorithms<br/> \n",
    "   and their implementation in Python**"
   ]
  },
  {
   "cell_type": "markdown",
   "metadata": {},
   "source": [
    "### N-Grams\n",
    "\n",
    "N-Grams is an important concept to understand in text analytics. \n",
    "Essentially, N-Grams is a set of 1 or more consecutive sequence of items that occur next to each other. \n",
    "As mentioned above, N is a numerical value that implies the n items of sequence of text.\n",
    "\n",
    "When we type text in a search engine, we can see the probabilistic model of the search engine \n",
    "starts predicting the next set of words based on the context. This is known as the Autocomplete \n",
    "feature of the search engines.\n",
    "\n",
    "N-Grams allows us to build this text mining forecasting model.\n",
    "\n",
    "** N-Grams allows us to predict the next words of a text **\n",
    "\n",
    "As an instance, if the sentence is “FinTechExplained is a publication”, then:\n",
    "* 1- Gram would be: FinTechExplained, is, a, publication\n",
    "* 2- Gram would be: FinTechExplained is, is a, a publication\n",
    "* 3- Gram would be: FinTechExplained is a, is a publication\n",
    "    \n",
    "In Python, we can implement N-Gram using NLTK library:"
   ]
  },
  {
   "cell_type": "code",
   "execution_count": 20,
   "metadata": {},
   "outputs": [
    {
     "name": "stdout",
     "output_type": "stream",
     "text": [
      "1_grams: ['FinTechExplained', 'is', 'a', 'publication']\n",
      "2_grams: ['FinTechExplained is', 'is a', 'a publication']\n",
      "3_grams: ['FinTechExplained is a', 'is a publication']\n"
     ]
    }
   ],
   "source": [
    "from nltk.util import ngrams\n",
    "from collections import Counter\n",
    "\n",
    "# Function to generate n-grams from sentences.\n",
    "def extract_ngrams(data, num):\n",
    "    n_grams = ngrams(nltk.word_tokenize(data), num)\n",
    "    return [ ' '.join(grams) for grams in n_grams]\n",
    "\n",
    "data = \"FinTechExplained is a publication\"\n",
    "\n",
    "print(\"1_grams:\", extract_ngrams(data, 1))\n",
    "print(\"2_grams:\", extract_ngrams(data, 2))\n",
    "print(\"3_grams:\", extract_ngrams(data, 3))"
   ]
  },
  {
   "cell_type": "markdown",
   "metadata": {},
   "source": [
    "### Bag of Words (BoW)\n",
    "\n",
    "The Bag of Words (BoW) model is the simplest form of text representation in numbers. Like the term itself, we can represent a sentence as a bag of words vector (a string of numbers).\n",
    "\n",
    "Let’s recall the three types of movie reviews we saw earlier:\n",
    "\n",
    "* Review 1: This movie is very scary and long\n",
    "* Review 2: This movie is not scary and is slow\n",
    "* Review 3: This movie is spooky and good\n",
    "\n",
    "We will first build a vocabulary from all the unique words in the above three reviews. The vocabulary consists of these 11 words: ‘This’, ‘movie’, ‘is’, ‘very’, ‘scary’, ‘and’, ‘long’, ‘not’,  ‘slow’, ‘spooky’,  ‘good’.\n",
    "\n",
    "We can now take each of these words and mark their occurrence in the three movie reviews above with 1s and 0s. This will give us 3 vectors for 3 reviews:"
   ]
  },
  {
   "cell_type": "code",
   "execution_count": 21,
   "metadata": {},
   "outputs": [
    {
     "data": {
      "image/png": "[encoded data removed]",
      "text/plain": [
       "<IPython.core.display.Image object>"
      ]
     },
     "execution_count": 21,
     "metadata": {},
     "output_type": "execute_result"
    }
   ],
   "source": [
    "from IPython.display import Image\n",
    "Image(filename=\"bow.png\")"
   ]
  },
  {
   "cell_type": "markdown",
   "metadata": {},
   "source": [
    "Vector of Review 1: [1 1 1 1 1 1 1 0 0 0 0]\n",
    "\n",
    "Vector of Review 2: [1 1 2 0 0 1 1 0 1 0 0]\n",
    "\n",
    "Vector of Review 3: [1 1 1 0 0 0 1 0 0 1 1]\n",
    "\n",
    "And that’s the core idea behind a Bag of Words (BoW) model."
   ]
  },
  {
   "cell_type": "markdown",
   "metadata": {},
   "source": [
    "**Step #1 : We will first preprocess the data, in order to:**\n",
    "\n",
    "* Convert text to lower case.\n",
    "* Remove all non-word characters.\n",
    "* Remove all punctuations."
   ]
  },
  {
   "cell_type": "markdown",
   "metadata": {},
   "source": [
    "The special characters are:\n",
    "  *  \".\"  -->    Matches any character except a newline.\n",
    "  *  \"^\"  -->    Matches the start of the string.\n",
    "  *  \"$\"  -->    Matches the end of the string or just before the newline at the end of the string.\n",
    "  *  \"*\"  -->    Matches 0 or more (greedy) repetitions of the preceding RE.\n",
    "  *  \"+\"  -->    Matches 1 or more (greedy) repetitions of the preceding RE.\n",
    "  *  \"?\"  -->    Matches 0 or 1 (greedy) of the preceding RE."
   ]
  },
  {
   "cell_type": "markdown",
   "metadata": {},
   "source": [
    "The special sequences consist of \"\\\\\" and a character from the list\n",
    "below.  If the ordinary character is not on the list, then the\n",
    "resulting RE will match the second character.\n",
    "\n",
    " *   \\number  Matches the contents of the group of the same number.\n",
    " *   \\A       Matches only at the start of the string.\n",
    " *   \\Z       Matches only at the end of the string.\n",
    " *   \\b       Matches the empty string, but only at the start or end of a word.\n",
    " *   \\B       Matches the empty string, but not at the start or end of a word.\n",
    " *   \\d       Matches any decimal digit; equivalent to the set [0-9] in\n",
    "             bytes patterns or string patterns with the ASCII flag.\n",
    "             In string patterns without the ASCII flag, it will match the whole\n",
    "             range of Unicode digits.\n",
    "            \n",
    " *   \\D       Matches any non-digit character; equivalent to [^\\d].\n",
    " *   \\s       Matches any whitespace character; equivalent to [ \\t\\n\\r\\f\\v] in\n",
    "             bytes patterns or string patterns with the ASCII flag.\n",
    "             In string patterns without the ASCII flag, it will match the whole\n",
    "             range of Unicode whitespace characters.\n",
    "                \n",
    " *    \\S       Matches any non-whitespace character; equivalent to [^\\s].\n",
    " *   \\w       Matches any alphanumeric character; equivalent to [a-zA-Z0-9_]\n",
    "             in bytes patterns or string patterns with the ASCII flag.\n",
    "             In string patterns without the ASCII flag, it will match the\n",
    "             range of Unicode alphanumeric characters (letters plus digits\n",
    "             plus underscore).\n",
    "             With LOCALE, it will match the set [0-9_] plus characters defined\n",
    "             as letters for the current locale.\n",
    "                \n",
    " *   \\W       Matches the complement of \\w.\n",
    " *   \\\\       Matches a literal backslash."
   ]
  },
  {
   "cell_type": "code",
   "execution_count": 140,
   "metadata": {},
   "outputs": [
    {
     "name": "stdout",
     "output_type": "stream",
     "text": [
      "['This   movie is very scary and long!', 'This movie is    not @scary and is slow.', 'This movie $$is spooky and    good']\n",
      "this   movie is very scary and long!\n",
      "this   movie is very scary and long \n",
      "this movie is very scary and long \n",
      "this movie is    not @scary and is slow.\n",
      "this movie is    not  scary and is slow \n",
      "this movie is not scary and is slow \n",
      "this movie $$is spooky and    good\n",
      "this movie   is spooky and    good\n",
      "this movie is spooky and good\n"
     ]
    }
   ],
   "source": [
    "# Python3 code for preprocessing text  \n",
    "import re \n",
    "# execute the text here as : \n",
    "text = \"\"\"This   movie is very scary and long! This movie is    not @scary and is slow. This movie $$is spooky and    good\"\"\" \n",
    "dataset = nltk.sent_tokenize(text)                     # Return a sentence-tokenized copy of *text*,using NLTK's\n",
    "print(dataset)\n",
    "for i in range(len(dataset)): \n",
    "    dataset[i] = dataset[i].lower()\n",
    "    print(dataset[i])\n",
    "    dataset[i] = re.sub(r'\\W', ' ', dataset[i])        # consider only alphanumeric character(a-zA-Z0-9)\n",
    "    print(dataset[i])\n",
    "    dataset[i] = re.sub(r'\\s+', ' ', dataset[i])       # remove wide white spaces into one\n",
    "    print(dataset[i])"
   ]
  },
  {
   "cell_type": "markdown",
   "metadata": {},
   "source": [
    "**Step #2 : Obtaining most frequent words in our text.**\n",
    "\n",
    "We will apply the following steps to generate our model.\n",
    "\n",
    "* We declare a dictionary to hold our bag of words.\n",
    "* Next we tokenize each sentence to words.\n",
    "* Now for each word in sentence, we check if the word exists in our dictionary.\n",
    "If it does, then we increment its count by 1. If it doesn’t, we add it to our dictionary and set its count as 1."
   ]
  },
  {
   "cell_type": "code",
   "execution_count": 190,
   "metadata": {},
   "outputs": [
    {
     "name": "stdout",
     "output_type": "stream",
     "text": [
      "{'this': 3, 'movie': 3, 'is': 4, 'very': 1, 'scary': 2, 'and': 3, 'long': 1, 'not': 1, 'slow': 1, 'spooky': 1, 'good': 1}\n"
     ]
    }
   ],
   "source": [
    "# Creating the Bag of Words model \n",
    "word2count = {} \n",
    "for data in dataset:\n",
    "    words = nltk.word_tokenize(data)\n",
    "    for word in words: \n",
    "        if word not in word2count.keys(): \n",
    "            word2count[word] = 1\n",
    "        else: \n",
    "            word2count[word] += 1\n",
    "print(word2count)"
   ]
  },
  {
   "cell_type": "markdown",
   "metadata": {},
   "source": [
    "### Step #3 : Building the Bag of Words model\n",
    "In this step we construct a vector, which would tell us whether a word in each sentence is a frequent word or not. \n",
    "If a word in a sentence is a frequent word, we set it as 1, else we set it as 0.\n",
    "\n",
    "This can be implemented with the help of following code:"
   ]
  },
  {
   "cell_type": "code",
   "execution_count": 90,
   "metadata": {},
   "outputs": [],
   "source": [
    "X = [] \n",
    "for data in dataset: \n",
    "    vector = [] \n",
    "    for word in word2count: \n",
    "        if word in nltk.word_tokenize(data): \n",
    "            vector.append(1) \n",
    "        else: \n",
    "            vector.append(0)              \n",
    "    X.append(vector)                                           # ndarray, length=3 \n",
    "X = np.asarray(X)                                              # Convert the input to an array."
   ]
  },
  {
   "cell_type": "code",
   "execution_count": 91,
   "metadata": {},
   "outputs": [
    {
     "name": "stdout",
     "output_type": "stream",
     "text": [
      "[[1 1 1 1 1 1 1 0 0 0 0]\n",
      " [1 1 1 0 1 1 0 1 1 0 0]\n",
      " [1 1 1 0 0 1 0 0 0 1 1]]\n"
     ]
    }
   ],
   "source": [
    "print(X)"
   ]
  },
  {
   "cell_type": "markdown",
   "metadata": {},
   "source": [
    "### Drawbacks of using a Bag-of-Words (BoW) Model\n",
    "In the above example, we can have vectors of length 11. However, we start facing issues when we come across new sentences:\n",
    "\n",
    "* If the new sentences contain new words, then our vocabulary size would increase and thereby, the length of the vectors would \n",
    "  increase too.\n",
    "    \n",
    "* Additionally, the vectors would also contain many 0s, thereby resulting in a sparse matrix (which is what we would like \n",
    "  to avoid)\n",
    "\n",
    "* We are retaining no information on the grammar of the sentences nor on the ordering of the words in the text."
   ]
  },
  {
   "cell_type": "markdown",
   "metadata": {},
   "source": [
    "## Term Frequency-Inverse Document Frequency (TF-IDF)"
   ]
  },
  {
   "cell_type": "markdown",
   "metadata": {},
   "source": [
    "**“Term frequency–inverse document frequency, is a numerical statistic<br/> \n",
    "  that is intended to reflect how important a word is to<br/> \n",
    "  a document in a collection or corpus.”**"
   ]
  },
  {
   "cell_type": "markdown",
   "metadata": {},
   "source": [
    "### Term Frequency (TF)\n",
    "Let’s first understand Term Frequent (TF). It is a measure of how frequently a term, t, appears in a document, d:"
   ]
  },
  {
   "cell_type": "code",
   "execution_count": 22,
   "metadata": {},
   "outputs": [
    {
     "data": {
      "image/jpeg": "[encoded data removed]",
      "text/plain": [
       "<IPython.core.display.Image object>"
      ]
     },
     "execution_count": 22,
     "metadata": {},
     "output_type": "execute_result"
    }
   ],
   "source": [
    "from IPython.display import Image\n",
    "Image(filename=\"tf.jpg\")"
   ]
  },
  {
   "cell_type": "markdown",
   "metadata": {},
   "source": [
    "Here, in the numerator, n is the number of times the term “t” appears in the document “d”. Thus, each document and term \n",
    "would have its own TF value.\n",
    "\n",
    "Let’s recall the three types of movie reviews we saw earlier:\n",
    "\n",
    "* Review 1: This movie is very scary and long\n",
    "* Review 2: This movie is not scary and is slow\n",
    "* Review 3: This movie is spooky and good\n",
    "    \n",
    "Here,\n",
    "\n",
    "**Vocabulary:** ‘This’, ‘movie’, ‘is’, ‘very’, ‘scary’, ‘and’, ‘long’, ‘not’,  ‘slow’, ‘spooky’,  ‘good’<br/>\n",
    "**Number of words in Review 2** = 8<br/>\n",
    "**TF for the word ‘this’** = (number of times ‘this’ appears in review 2)/(number of terms in review 2) = 1/8<br/>\n",
    "\n",
    "Similarly,\n",
    "\n",
    "* TF(‘movie’) = 1/8\n",
    "* TF(‘is’) = 2/8 = 1/4\n",
    "* TF(‘very’) = 0/8 = 0\n",
    "* TF(‘scary’) = 1/8\n",
    "* TF(‘and’) = 1/8\n",
    "* TF(‘long’) = 0/8 = 0\n",
    "* TF(‘not’) = 1/8\n",
    "* TF(‘slow’) = 1/8\n",
    "* TF( ‘spooky’) = 0/8 = 0\n",
    "* TF(‘good’) = 0/8 = 0\n",
    "\n",
    "We can calculate the term frequencies for all the terms and all the reviews in this manner:"
   ]
  },
  {
   "cell_type": "code",
   "execution_count": 23,
   "metadata": {},
   "outputs": [
    {
     "data": {
      "image/png": "[encoded data removed]",
      "text/plain": [
       "<IPython.core.display.Image object>"
      ]
     },
     "execution_count": 23,
     "metadata": {},
     "output_type": "execute_result"
    }
   ],
   "source": [
    "from IPython.display import Image\n",
    "Image(filename=\"TF-matrix-1.png\")"
   ]
  },
  {
   "cell_type": "markdown",
   "metadata": {},
   "source": [
    "### Inverse Document Frequency (IDF)\n",
    "IDF is a measure of how important a term is. We need the IDF value because computing just the TF alone is not sufficient \n",
    "to understand the importance of words:"
   ]
  },
  {
   "cell_type": "code",
   "execution_count": 24,
   "metadata": {},
   "outputs": [
    {
     "data": {
      "image/jpeg": "[encoded data removed]",
      "text/plain": [
       "<IPython.core.display.Image object>"
      ]
     },
     "execution_count": 24,
     "metadata": {},
     "output_type": "execute_result"
    }
   ],
   "source": [
    "from IPython.display import Image\n",
    "Image(filename=\"idf.jpg\")"
   ]
  },
  {
   "cell_type": "markdown",
   "metadata": {},
   "source": [
    "We can calculate the IDF values for the all the words in Review 2:\n",
    "\n",
    "IDF(‘this’) =  log(number of documents/number of documents containing the word ‘this’) = log(3/3) = log(1) = 0\n",
    "\n",
    "Similarly,\n",
    "\n",
    "* IDF(‘movie’, ) = log(3/3) = 0\n",
    "* IDF(‘is’) = log(3/3) = 0\n",
    "* IDF(‘not’) = log(3/1) = log(3) = 0.48\n",
    "* IDF(‘scary’) = log(3/2) = 0.18\n",
    "* IDF(‘and’) = log(3/3) = 0\n",
    "* IDF(‘slow’) = log(3/1) = 0.48\n",
    "\n",
    "We can calculate the IDF values for each word like this. Thus, the IDF values for the entire vocabulary would be:"
   ]
  },
  {
   "cell_type": "code",
   "execution_count": 25,
   "metadata": {},
   "outputs": [
    {
     "data": {
      "image/png": "[encoded data removed]",
      "text/plain": [
       "<IPython.core.display.Image object>"
      ]
     },
     "execution_count": 25,
     "metadata": {},
     "output_type": "execute_result"
    }
   ],
   "source": [
    "from IPython.display import Image\n",
    "Image(filename=\"IDF-matrix.png\")"
   ]
  },
  {
   "cell_type": "markdown",
   "metadata": {},
   "source": [
    "**Hence, we see that words like “is”, “this”, “and”, etc., are reduced to 0 and have little importance; while words like \n",
    "“scary”, “long”, “good”, etc. are words with more importance and thus have a higher value.**\n",
    "\n",
    "We can now compute the TF-IDF score for each word in the corpus. Words with a higher score are more \n",
    "important, and those with a lower score are less important:"
   ]
  },
  {
   "cell_type": "code",
   "execution_count": 26,
   "metadata": {},
   "outputs": [
    {
     "data": {
      "image/jpeg": "[encoded data removed]",
      "text/plain": [
       "<IPython.core.display.Image object>"
      ]
     },
     "execution_count": 26,
     "metadata": {},
     "output_type": "execute_result"
    }
   ],
   "source": [
    "from IPython.display import Image\n",
    "Image(filename=\"tf_idf.jpg\")"
   ]
  },
  {
   "cell_type": "markdown",
   "metadata": {},
   "source": [
    "We can now calculate the TF-IDF score for every word in Review 2:\n",
    "\n",
    "TF-IDF(‘this’, Review 2) = TF(‘this’, Review 2) * IDF(‘this’) = 1/8 * 0 = 0\n",
    "\n",
    "Similarly,\n",
    "\n",
    "* TF-IDF(‘movie’, Review 2) = 1/8 * 0 = 0\n",
    "* TF-IDF(‘is’, Review 2) = 1/4 * 0 = 0\n",
    "* TF-IDF(‘not’, Review 2) = 1/8 * 0.48 = 0.06\n",
    "* TF-IDF(‘scary’, Review 2) = 1/8 * 0.18 = 0.023\n",
    "* TF-IDF(‘and’, Review 2) = 1/8 * 0 = 0\n",
    "* TF-IDF(‘slow’, Review 2) = 1/8 * 0.48 = 0.06\n",
    "\n",
    "Similarly, we can calculate the TF-IDF scores for all the words with respect to all the reviews:"
   ]
  },
  {
   "cell_type": "code",
   "execution_count": 27,
   "metadata": {},
   "outputs": [
    {
     "data": {
      "image/png": "[encoded data removed]",
      "text/plain": [
       "<IPython.core.display.Image object>"
      ]
     },
     "execution_count": 27,
     "metadata": {},
     "output_type": "execute_result"
    }
   ],
   "source": [
    "from IPython.display import Image\n",
    "Image(filename=\"TF_IDF-matrix.png\")"
   ]
  },
  {
   "cell_type": "markdown",
   "metadata": {},
   "source": [
    "**We have now obtained the TF-IDF scores for our vocabulary. TF-IDF also gives larger values for less frequent \n",
    "words and is high when both IDF and TF values are high i.e the word is rare in all the documents combined but \n",
    "frequent in a single document.**"
   ]
  },
  {
   "cell_type": "markdown",
   "metadata": {},
   "source": [
    "Let me summarize what we’ve covered in the article:\n",
    "\n",
    "* **Bag of Words just creates a set of vectors containing the count of word occurrences in the document (reviews), \n",
    "  while the TF-IDF model contains information on the more important words and the less important ones as well.**<br/><br/>\n",
    "* **Bag of Words vectors are easy to interpret. However, TF-IDF usually performs better in machine learning models.**<br/><br/>\n",
    "* **While both Bag-of-Words and TF-IDF have been popular in their own regard, there still remained a void where \n",
    "  understanding the context of words was concerned. Detecting the similarity between the words ‘spooky’ and ‘scary’, \n",
    "  or translating our given documents into another language, requires a lot more information on the documents.**\n",
    "\n",
    "This is where Word Embedding techniques such as Word2Vec, Continuous Bag of Words (CBOW), Skipgram, etc. come in."
   ]
  },
  {
   "cell_type": "markdown",
   "metadata": {},
   "source": [
    "## Creating TF-IDF Model from Scratch"
   ]
  },
  {
   "cell_type": "markdown",
   "metadata": {},
   "source": [
    "* Terminology .\n",
    "* Term Frequency(TF) .\n",
    "* Document Frequency .\n",
    "* Inverse Document Frequency .\n",
    "* Implementation in Python .\n",
    "\n",
    "### 1 - Terminology :\n",
    "* t — term (word)\n",
    "* d — document (set of words)\n",
    "* N — count of corpus\n",
    "* corpus — the total document set\n",
    "\n",
    "**2 -Formula :\n",
    "tf(t,d) = count of t in d / number of words in d**\n",
    "\n",
    "**3 -Document Frequency :**\n",
    "This measures the importance of document in whole set of corpus, this is very similar to TF. The only difference is \n",
    "that TF is frequency counter for a term t in document d, where as DF is the count of occurrences of term t in the \n",
    "document set N. In other words, DF is the number of documents in which the word is present. We consider one occurrence \n",
    "if the term consists in the document at least once, we do not need to know the number of times the term is present.\n",
    "\n",
    "**df(t) = occurrence of t in documents**\n",
    "\n",
    "**4 -Formula :\n",
    "idf(t) = log(N/(df + 1))**\n",
    "\n",
    "**Formula :\n",
    "tf-idf(t, d) = tf(t, d) * log(N/(df + 1))**"
   ]
  },
  {
   "cell_type": "markdown",
   "metadata": {},
   "source": [
    "* Review 1: This movie is very scary and long\n",
    "* Review 2: This movie is not scary and is slow\n",
    "* Review 3: This movie is spooky and good"
   ]
  },
  {
   "cell_type": "code",
   "execution_count": 119,
   "metadata": {},
   "outputs": [],
   "source": [
    "import pandas as pd\n",
    "import sklearn as sk\n",
    "import math"
   ]
  },
  {
   "cell_type": "markdown",
   "metadata": {},
   "source": [
    "so let’s load our sentences and combine them together in a single set :"
   ]
  },
  {
   "cell_type": "code",
   "execution_count": 120,
   "metadata": {},
   "outputs": [
    {
     "name": "stdout",
     "output_type": "stream",
     "text": [
      "{'good', 'and', 'not', 'scary', 'is', 'very', 'This', 'long', 'movie', 'slow', 'spooky'}\n"
     ]
    }
   ],
   "source": [
    "Review_1 = \"This movie is very scary and long\"\n",
    "Review_2 = \"This movie is not scary and is slow\"\n",
    "Review_3 = \"This movie is spooky and good\"\n",
    "\n",
    "#split so each word have their own string\n",
    "Review_1 = Review_1.split(\" \")\n",
    "Review_2 = Review_2.split(\" \")                                 #join them to remove common duplicate words\n",
    "Review_3 = Review_3.split(\" \")\n",
    "\n",
    "total= set(Review_1).union(set(Review_2)).union(set(Review_3))\n",
    "print(total)"
   ]
  },
  {
   "cell_type": "markdown",
   "metadata": {},
   "source": [
    "Now lets add a way to count the words using a dictionary key-value pairing for both sentences :"
   ]
  },
  {
   "cell_type": "code",
   "execution_count": 184,
   "metadata": {},
   "outputs": [
    {
     "name": "stdout",
     "output_type": "stream",
     "text": [
      "{'good': 1, 'not': 0, 'scary': 0, 'This': 1, 'movie': 1, 'slow': 0, 'and': 1, 'is': 1, 'very': 0, 'long': 0, 'spooky': 1}\n"
     ]
    }
   ],
   "source": [
    "wordDictA = dict.fromkeys(total, 0)\n",
    "wordDictB = dict.fromkeys(total, 0)\n",
    "wordDictC = dict.fromkeys(total, 0)\n",
    "for word in Review_1:\n",
    "    wordDictA[word]+=1\n",
    "    \n",
    "for word in Review_2:\n",
    "    wordDictB[word]+=1\n",
    "    \n",
    "for word in Review_3:\n",
    "    wordDictC[word]+=1\n",
    "\n",
    "print(wordDictC)"
   ]
  },
  {
   "cell_type": "markdown",
   "metadata": {},
   "source": [
    "Now we put them in a dataframe and then view the result:"
   ]
  },
  {
   "cell_type": "code",
   "execution_count": 185,
   "metadata": {},
   "outputs": [
    {
     "data": {
      "text/html": [
       "<div>\n",
       "<style scoped>\n",
       "    .dataframe tbody tr th:only-of-type {\n",
       "        vertical-align: middle;\n",
       "    }\n",
       "\n",
       "    .dataframe tbody tr th {\n",
       "        vertical-align: top;\n",
       "    }\n",
       "\n",
       "    .dataframe thead th {\n",
       "        text-align: right;\n",
       "    }\n",
       "</style>\n",
       "<table border=\"1\" class=\"dataframe\">\n",
       "  <thead>\n",
       "    <tr style=\"text-align: right;\">\n",
       "      <th></th>\n",
       "      <th>good</th>\n",
       "      <th>not</th>\n",
       "      <th>scary</th>\n",
       "      <th>This</th>\n",
       "      <th>movie</th>\n",
       "      <th>slow</th>\n",
       "      <th>and</th>\n",
       "      <th>is</th>\n",
       "      <th>very</th>\n",
       "      <th>long</th>\n",
       "      <th>spooky</th>\n",
       "    </tr>\n",
       "  </thead>\n",
       "  <tbody>\n",
       "    <tr>\n",
       "      <th>0</th>\n",
       "      <td>0</td>\n",
       "      <td>0</td>\n",
       "      <td>1</td>\n",
       "      <td>1</td>\n",
       "      <td>1</td>\n",
       "      <td>0</td>\n",
       "      <td>1</td>\n",
       "      <td>1</td>\n",
       "      <td>1</td>\n",
       "      <td>1</td>\n",
       "      <td>0</td>\n",
       "    </tr>\n",
       "    <tr>\n",
       "      <th>1</th>\n",
       "      <td>0</td>\n",
       "      <td>1</td>\n",
       "      <td>1</td>\n",
       "      <td>1</td>\n",
       "      <td>1</td>\n",
       "      <td>1</td>\n",
       "      <td>1</td>\n",
       "      <td>2</td>\n",
       "      <td>0</td>\n",
       "      <td>0</td>\n",
       "      <td>0</td>\n",
       "    </tr>\n",
       "    <tr>\n",
       "      <th>2</th>\n",
       "      <td>1</td>\n",
       "      <td>0</td>\n",
       "      <td>0</td>\n",
       "      <td>1</td>\n",
       "      <td>1</td>\n",
       "      <td>0</td>\n",
       "      <td>1</td>\n",
       "      <td>1</td>\n",
       "      <td>0</td>\n",
       "      <td>0</td>\n",
       "      <td>1</td>\n",
       "    </tr>\n",
       "  </tbody>\n",
       "</table>\n",
       "</div>"
      ],
      "text/plain": [
       "   good  not  scary  This  movie  slow  and  is  very  long  spooky\n",
       "0     0    0      1     1      1     0    1   1     1     1       0\n",
       "1     0    1      1     1      1     1    1   2     0     0       0\n",
       "2     1    0      0     1      1     0    1   1     0     0       1"
      ]
     },
     "execution_count": 185,
     "metadata": {},
     "output_type": "execute_result"
    }
   ],
   "source": [
    "pd.DataFrame([wordDictA, wordDictB, wordDictC])"
   ]
  },
  {
   "cell_type": "markdown",
   "metadata": {},
   "source": [
    "No let’s writing the TF Function :"
   ]
  },
  {
   "cell_type": "code",
   "execution_count": 148,
   "metadata": {},
   "outputs": [
    {
     "data": {
      "text/html": [
       "<div>\n",
       "<style scoped>\n",
       "    .dataframe tbody tr th:only-of-type {\n",
       "        vertical-align: middle;\n",
       "    }\n",
       "\n",
       "    .dataframe tbody tr th {\n",
       "        vertical-align: top;\n",
       "    }\n",
       "\n",
       "    .dataframe thead th {\n",
       "        text-align: right;\n",
       "    }\n",
       "</style>\n",
       "<table border=\"1\" class=\"dataframe\">\n",
       "  <thead>\n",
       "    <tr style=\"text-align: right;\">\n",
       "      <th></th>\n",
       "      <th>good</th>\n",
       "      <th>and</th>\n",
       "      <th>not</th>\n",
       "      <th>scary</th>\n",
       "      <th>is</th>\n",
       "      <th>very</th>\n",
       "      <th>This</th>\n",
       "      <th>long</th>\n",
       "      <th>movie</th>\n",
       "      <th>slow</th>\n",
       "      <th>spooky</th>\n",
       "    </tr>\n",
       "  </thead>\n",
       "  <tbody>\n",
       "    <tr>\n",
       "      <th>0</th>\n",
       "      <td>0.000000</td>\n",
       "      <td>0.142857</td>\n",
       "      <td>0.000</td>\n",
       "      <td>0.142857</td>\n",
       "      <td>0.142857</td>\n",
       "      <td>0.142857</td>\n",
       "      <td>0.142857</td>\n",
       "      <td>0.142857</td>\n",
       "      <td>0.142857</td>\n",
       "      <td>0.000</td>\n",
       "      <td>0.000000</td>\n",
       "    </tr>\n",
       "    <tr>\n",
       "      <th>1</th>\n",
       "      <td>0.000000</td>\n",
       "      <td>0.125000</td>\n",
       "      <td>0.125</td>\n",
       "      <td>0.125000</td>\n",
       "      <td>0.250000</td>\n",
       "      <td>0.000000</td>\n",
       "      <td>0.125000</td>\n",
       "      <td>0.000000</td>\n",
       "      <td>0.125000</td>\n",
       "      <td>0.125</td>\n",
       "      <td>0.000000</td>\n",
       "    </tr>\n",
       "    <tr>\n",
       "      <th>2</th>\n",
       "      <td>0.166667</td>\n",
       "      <td>0.166667</td>\n",
       "      <td>0.000</td>\n",
       "      <td>0.000000</td>\n",
       "      <td>0.166667</td>\n",
       "      <td>0.000000</td>\n",
       "      <td>0.166667</td>\n",
       "      <td>0.000000</td>\n",
       "      <td>0.166667</td>\n",
       "      <td>0.000</td>\n",
       "      <td>0.166667</td>\n",
       "    </tr>\n",
       "  </tbody>\n",
       "</table>\n",
       "</div>"
      ],
      "text/plain": [
       "       good       and    not     scary        is      very      This  \\\n",
       "0  0.000000  0.142857  0.000  0.142857  0.142857  0.142857  0.142857   \n",
       "1  0.000000  0.125000  0.125  0.125000  0.250000  0.000000  0.125000   \n",
       "2  0.166667  0.166667  0.000  0.000000  0.166667  0.000000  0.166667   \n",
       "\n",
       "       long     movie   slow    spooky  \n",
       "0  0.142857  0.142857  0.000  0.000000  \n",
       "1  0.000000  0.125000  0.125  0.000000  \n",
       "2  0.000000  0.166667  0.000  0.166667  "
      ]
     },
     "execution_count": 148,
     "metadata": {},
     "output_type": "execute_result"
    }
   ],
   "source": [
    "def computeTF(wordDict, doc):\n",
    "    tfDict = {}\n",
    "    datasetCount = len(doc)\n",
    "    for word, count in wordDict.items():\n",
    "        tfDict[word] = count/float(datasetCount)\n",
    "    return(tfDict)\n",
    "\n",
    "#running our sentences through the tf function:\n",
    "tfFirst = computeTF(wordDictA, Review_1)\n",
    "tfSecond = computeTF(wordDictB, Review_2)\n",
    "tfThird = computeTF(wordDictC, Review_3)\n",
    "\n",
    "#Converting to dataframe for visualization\n",
    "tf = pd.DataFrame([tfFirst, tfSecond, tfThird])\n",
    "tf"
   ]
  },
  {
   "cell_type": "markdown",
   "metadata": {},
   "source": [
    "That’s all for TF formula , just i wanna talk about stop words that we should eliminate them because they are the \n",
    "most commonly occurring words which don’t give any additional value to the document vector . in-fact removing these \n",
    "will increase computation and space efficiency.\n",
    "\n",
    "nltk library has a method to download the stopwords, so instead of explicitly mentioning all the stopwords ourselves \n",
    "we can just use the nltk library and iterate over all the words and remove the stop words. There are many efficient \n",
    "ways to do this, but ill just give a simple method. those a sample of a stopwords in english language :"
   ]
  },
  {
   "cell_type": "code",
   "execution_count": 127,
   "metadata": {},
   "outputs": [
    {
     "data": {
      "text/plain": [
       "{'a',\n",
       " 'about',\n",
       " 'above',\n",
       " 'after',\n",
       " 'again',\n",
       " 'against',\n",
       " 'ain',\n",
       " 'all',\n",
       " 'am',\n",
       " 'an',\n",
       " 'and',\n",
       " 'any',\n",
       " 'are',\n",
       " 'aren',\n",
       " \"aren't\",\n",
       " 'as',\n",
       " 'at',\n",
       " 'be',\n",
       " 'because',\n",
       " 'been',\n",
       " 'before',\n",
       " 'being',\n",
       " 'below',\n",
       " 'between',\n",
       " 'both',\n",
       " 'but',\n",
       " 'by',\n",
       " 'can',\n",
       " 'couldn',\n",
       " \"couldn't\",\n",
       " 'd',\n",
       " 'did',\n",
       " 'didn',\n",
       " \"didn't\",\n",
       " 'do',\n",
       " 'does',\n",
       " 'doesn',\n",
       " \"doesn't\",\n",
       " 'doing',\n",
       " 'don',\n",
       " \"don't\",\n",
       " 'down',\n",
       " 'during',\n",
       " 'each',\n",
       " 'few',\n",
       " 'for',\n",
       " 'from',\n",
       " 'further',\n",
       " 'had',\n",
       " 'hadn',\n",
       " \"hadn't\",\n",
       " 'has',\n",
       " 'hasn',\n",
       " \"hasn't\",\n",
       " 'have',\n",
       " 'haven',\n",
       " \"haven't\",\n",
       " 'having',\n",
       " 'he',\n",
       " 'her',\n",
       " 'here',\n",
       " 'hers',\n",
       " 'herself',\n",
       " 'him',\n",
       " 'himself',\n",
       " 'his',\n",
       " 'how',\n",
       " 'i',\n",
       " 'if',\n",
       " 'in',\n",
       " 'into',\n",
       " 'is',\n",
       " 'isn',\n",
       " \"isn't\",\n",
       " 'it',\n",
       " \"it's\",\n",
       " 'its',\n",
       " 'itself',\n",
       " 'just',\n",
       " 'll',\n",
       " 'm',\n",
       " 'ma',\n",
       " 'me',\n",
       " 'mightn',\n",
       " \"mightn't\",\n",
       " 'more',\n",
       " 'most',\n",
       " 'mustn',\n",
       " \"mustn't\",\n",
       " 'my',\n",
       " 'myself',\n",
       " 'needn',\n",
       " \"needn't\",\n",
       " 'no',\n",
       " 'nor',\n",
       " 'not',\n",
       " 'now',\n",
       " 'o',\n",
       " 'of',\n",
       " 'off',\n",
       " 'on',\n",
       " 'once',\n",
       " 'only',\n",
       " 'or',\n",
       " 'other',\n",
       " 'our',\n",
       " 'ours',\n",
       " 'ourselves',\n",
       " 'out',\n",
       " 'over',\n",
       " 'own',\n",
       " 're',\n",
       " 's',\n",
       " 'same',\n",
       " 'shan',\n",
       " \"shan't\",\n",
       " 'she',\n",
       " \"she's\",\n",
       " 'should',\n",
       " \"should've\",\n",
       " 'shouldn',\n",
       " \"shouldn't\",\n",
       " 'so',\n",
       " 'some',\n",
       " 'such',\n",
       " 't',\n",
       " 'than',\n",
       " 'that',\n",
       " \"that'll\",\n",
       " 'the',\n",
       " 'their',\n",
       " 'theirs',\n",
       " 'them',\n",
       " 'themselves',\n",
       " 'then',\n",
       " 'there',\n",
       " 'these',\n",
       " 'they',\n",
       " 'this',\n",
       " 'those',\n",
       " 'through',\n",
       " 'to',\n",
       " 'too',\n",
       " 'under',\n",
       " 'until',\n",
       " 'up',\n",
       " 've',\n",
       " 'very',\n",
       " 'was',\n",
       " 'wasn',\n",
       " \"wasn't\",\n",
       " 'we',\n",
       " 'were',\n",
       " 'weren',\n",
       " \"weren't\",\n",
       " 'what',\n",
       " 'when',\n",
       " 'where',\n",
       " 'which',\n",
       " 'while',\n",
       " 'who',\n",
       " 'whom',\n",
       " 'why',\n",
       " 'will',\n",
       " 'with',\n",
       " 'won',\n",
       " \"won't\",\n",
       " 'wouldn',\n",
       " \"wouldn't\",\n",
       " 'y',\n",
       " 'you',\n",
       " \"you'd\",\n",
       " \"you'll\",\n",
       " \"you're\",\n",
       " \"you've\",\n",
       " 'your',\n",
       " 'yours',\n",
       " 'yourself',\n",
       " 'yourselves'}"
      ]
     },
     "execution_count": 127,
     "metadata": {},
     "output_type": "execute_result"
    }
   ],
   "source": [
    "set(stopwords.words('english'))"
   ]
  },
  {
   "cell_type": "code",
   "execution_count": 128,
   "metadata": {},
   "outputs": [
    {
     "data": {
      "text/plain": [
       "['good', 'scary', 'This', 'long', 'movie', 'slow', 'spooky']"
      ]
     },
     "execution_count": 128,
     "metadata": {},
     "output_type": "execute_result"
    }
   ],
   "source": [
    "filtered_sentence = []\n",
    "for word in wordDictA:\n",
    "    if str(word) not in set(stopwords.words('english')):\n",
    "        filtered_sentence.append(word)\n",
    "filtered_sentence"
   ]
  },
  {
   "cell_type": "markdown",
   "metadata": {},
   "source": [
    "And now that we finished the TF section, we move onto the IDF part:"
   ]
  },
  {
   "cell_type": "code",
   "execution_count": 203,
   "metadata": {},
   "outputs": [
    {
     "data": {
      "text/plain": [
       "{'good': 0.47712125471966244,\n",
       " 'not': 0.47712125471966244,\n",
       " 'scary': 0.17609125905568124,\n",
       " 'This': 0,\n",
       " 'movie': 0.0,\n",
       " 'slow': 0.47712125471966244,\n",
       " 'and': 0.0,\n",
       " 'is': -0.12493873660829995,\n",
       " 'very': 0.47712125471966244,\n",
       " 'long': 0.47712125471966244,\n",
       " 'spooky': 0.47712125471966244,\n",
       " 'this': 0.0}"
      ]
     },
     "execution_count": 203,
     "metadata": {},
     "output_type": "execute_result"
    }
   ],
   "source": [
    "def computeIDF(docList):\n",
    "    idfDict = {}\n",
    "    N = len(docList)\n",
    "    \n",
    "    idfDict = dict.fromkeys(docList[0].keys(), 0)\n",
    "    #print(docList[0].keys())\n",
    "    for word, val in word2count.items():\n",
    "        idfDict[word] = math.log10(N / val)\n",
    "    \n",
    "    return(idfDict)\n",
    "\n",
    "#inputing our sentences in the log file\n",
    "idfs = computeIDF([wordDictA, wordDictB, wordDictC])\n",
    "idfs"
   ]
  },
  {
   "cell_type": "markdown",
   "metadata": {},
   "source": [
    "and now we implement the idf formula , let’s finish with calculating the TFI-DF"
   ]
  },
  {
   "cell_type": "code",
   "execution_count": 204,
   "metadata": {},
   "outputs": [
    {
     "data": {
      "text/html": [
       "<div>\n",
       "<style scoped>\n",
       "    .dataframe tbody tr th:only-of-type {\n",
       "        vertical-align: middle;\n",
       "    }\n",
       "\n",
       "    .dataframe tbody tr th {\n",
       "        vertical-align: top;\n",
       "    }\n",
       "\n",
       "    .dataframe thead th {\n",
       "        text-align: right;\n",
       "    }\n",
       "</style>\n",
       "<table border=\"1\" class=\"dataframe\">\n",
       "  <thead>\n",
       "    <tr style=\"text-align: right;\">\n",
       "      <th></th>\n",
       "      <th>good</th>\n",
       "      <th>and</th>\n",
       "      <th>not</th>\n",
       "      <th>scary</th>\n",
       "      <th>is</th>\n",
       "      <th>very</th>\n",
       "      <th>This</th>\n",
       "      <th>long</th>\n",
       "      <th>movie</th>\n",
       "      <th>slow</th>\n",
       "      <th>spooky</th>\n",
       "    </tr>\n",
       "  </thead>\n",
       "  <tbody>\n",
       "    <tr>\n",
       "      <th>0</th>\n",
       "      <td>0.00000</td>\n",
       "      <td>0.0</td>\n",
       "      <td>0.00000</td>\n",
       "      <td>0.025156</td>\n",
       "      <td>-0.017848</td>\n",
       "      <td>0.06816</td>\n",
       "      <td>0.0</td>\n",
       "      <td>0.06816</td>\n",
       "      <td>0.0</td>\n",
       "      <td>0.00000</td>\n",
       "      <td>0.00000</td>\n",
       "    </tr>\n",
       "    <tr>\n",
       "      <th>1</th>\n",
       "      <td>0.00000</td>\n",
       "      <td>0.0</td>\n",
       "      <td>0.05964</td>\n",
       "      <td>0.022011</td>\n",
       "      <td>-0.031235</td>\n",
       "      <td>0.00000</td>\n",
       "      <td>0.0</td>\n",
       "      <td>0.00000</td>\n",
       "      <td>0.0</td>\n",
       "      <td>0.05964</td>\n",
       "      <td>0.00000</td>\n",
       "    </tr>\n",
       "    <tr>\n",
       "      <th>2</th>\n",
       "      <td>0.07952</td>\n",
       "      <td>0.0</td>\n",
       "      <td>0.00000</td>\n",
       "      <td>0.000000</td>\n",
       "      <td>-0.020823</td>\n",
       "      <td>0.00000</td>\n",
       "      <td>0.0</td>\n",
       "      <td>0.00000</td>\n",
       "      <td>0.0</td>\n",
       "      <td>0.00000</td>\n",
       "      <td>0.07952</td>\n",
       "    </tr>\n",
       "  </tbody>\n",
       "</table>\n",
       "</div>"
      ],
      "text/plain": [
       "      good  and      not     scary        is     very  This     long  movie  \\\n",
       "0  0.00000  0.0  0.00000  0.025156 -0.017848  0.06816   0.0  0.06816    0.0   \n",
       "1  0.00000  0.0  0.05964  0.022011 -0.031235  0.00000   0.0  0.00000    0.0   \n",
       "2  0.07952  0.0  0.00000  0.000000 -0.020823  0.00000   0.0  0.00000    0.0   \n",
       "\n",
       "      slow   spooky  \n",
       "0  0.00000  0.00000  \n",
       "1  0.05964  0.00000  \n",
       "2  0.00000  0.07952  "
      ]
     },
     "execution_count": 204,
     "metadata": {},
     "output_type": "execute_result"
    }
   ],
   "source": [
    "def computeTFIDF(tfBow, idfs):\n",
    "    tfidf = {}\n",
    "    for word, val in tfBow.items():\n",
    "        tfidf[word] = val*idfs[word]\n",
    "    return(tfidf)\n",
    "\n",
    "#running our two sentences through the IDF:\n",
    "idfFirst = computeTFIDF(tfFirst, idfs)\n",
    "idfSecond = computeTFIDF(tfSecond, idfs)\n",
    "idfThird = computeTFIDF(tfThird, idfs)\n",
    "\n",
    "#putting it in a dataframe\n",
    "idf= pd.DataFrame([idfFirst, idfSecond, idfThird])\n",
    "idf"
   ]
  },
  {
   "cell_type": "markdown",
   "metadata": {},
   "source": [
    "**That was a lot of work. But it is handy to know, if you are asked to code TF-IDF from scratch in the future. \n",
    "However, this can be done a lot simpler thanks to sklearn library. Let’s look at the example from them below:**"
   ]
  },
  {
   "cell_type": "markdown",
   "metadata": {},
   "source": [
    "* Review 1: This movie is very scary and long\n",
    "* Review 2: This movie is not scary and is slow\n",
    "* Review 3: This movie is spooky and good"
   ]
  },
  {
   "cell_type": "code",
   "execution_count": 208,
   "metadata": {},
   "outputs": [],
   "source": [
    "from sklearn.feature_extraction.text import TfidfVectorizer\n",
    "\n",
    "#for the sentence, make sure all words are lowercase or you will run #into error. \n",
    "#for simplicity, I just made the same sentence all #lowercase\n",
    "\n",
    "firstV = \"this movie is very scary and long\"\n",
    "secondV = \"this movie is not scary and is slow\"\n",
    "thirdV = \"this movie is spooky and good\"\n",
    "\n",
    "#calling the TfidfVectorizer\n",
    "vectorize= TfidfVectorizer()\n",
    "\n",
    "#fitting the model and passing our sentences right away:\n",
    "response= vectorize.fit_transform([firstV, secondV, thirdV])"
   ]
  },
  {
   "cell_type": "code",
   "execution_count": 137,
   "metadata": {},
   "outputs": [
    {
     "name": "stdout",
     "output_type": "stream",
     "text": [
      "  (0, 9)\t0.2962833577206743\n",
      "  (0, 4)\t0.2962833577206743\n",
      "  (0, 2)\t0.2962833577206743\n",
      "  (0, 10)\t0.5016513317715935\n",
      "  (0, 6)\t0.3815187681027303\n",
      "  (0, 0)\t0.2962833577206743\n",
      "  (0, 3)\t0.5016513317715935\n",
      "  (1, 9)\t0.26359985093596655\n",
      "  (1, 4)\t0.26359985093596655\n",
      "  (1, 2)\t0.5271997018719331\n",
      "  (1, 6)\t0.3394328023512059\n",
      "  (1, 0)\t0.26359985093596655\n",
      "  (1, 5)\t0.44631334440825365\n",
      "  (1, 7)\t0.44631334440825365\n",
      "  (2, 9)\t0.32052772458725637\n",
      "  (2, 4)\t0.32052772458725637\n",
      "  (2, 2)\t0.32052772458725637\n",
      "  (2, 0)\t0.32052772458725637\n",
      "  (2, 8)\t0.5427006131762078\n",
      "  (2, 1)\t0.5427006131762078\n"
     ]
    }
   ],
   "source": [
    "print(response)"
   ]
  },
  {
   "cell_type": "code",
   "execution_count": null,
   "metadata": {},
   "outputs": [],
   "source": []
  },
  {
   "cell_type": "code",
   "execution_count": null,
   "metadata": {},
   "outputs": [],
   "source": []
  },
  {
   "cell_type": "code",
   "execution_count": null,
   "metadata": {},
   "outputs": [],
   "source": []
  },
  {
   "cell_type": "code",
   "execution_count": null,
   "metadata": {},
   "outputs": [],
   "source": []
  },
  {
   "cell_type": "code",
   "execution_count": null,
   "metadata": {},
   "outputs": [],
   "source": []
  },
  {
   "cell_type": "code",
   "execution_count": null,
   "metadata": {},
   "outputs": [],
   "source": []
  },
  {
   "cell_type": "code",
   "execution_count": null,
   "metadata": {},
   "outputs": [],
   "source": []
  },
  {
   "cell_type": "code",
   "execution_count": null,
   "metadata": {},
   "outputs": [],
   "source": []
  },
  {
   "cell_type": "code",
   "execution_count": null,
   "metadata": {},
   "outputs": [],
   "source": []
  },
  {
   "cell_type": "code",
   "execution_count": null,
   "metadata": {},
   "outputs": [],
   "source": []
  },
  {
   "cell_type": "code",
   "execution_count": null,
   "metadata": {},
   "outputs": [],
   "source": []
  },
  {
   "cell_type": "code",
   "execution_count": null,
   "metadata": {},
   "outputs": [],
   "source": []
  },
  {
   "cell_type": "code",
   "execution_count": null,
   "metadata": {},
   "outputs": [],
   "source": []
  },
  {
   "cell_type": "code",
   "execution_count": null,
   "metadata": {},
   "outputs": [],
   "source": []
  },
  {
   "cell_type": "code",
   "execution_count": null,
   "metadata": {},
   "outputs": [],
   "source": []
  },
  {
   "cell_type": "code",
   "execution_count": null,
   "metadata": {},
   "outputs": [],
   "source": []
  },
  {
   "cell_type": "code",
   "execution_count": null,
   "metadata": {},
   "outputs": [],
   "source": []
  },
  {
   "cell_type": "code",
   "execution_count": null,
   "metadata": {},
   "outputs": [],
   "source": []
  },
  {
   "cell_type": "code",
   "execution_count": null,
   "metadata": {},
   "outputs": [],
   "source": []
  },
  {
   "cell_type": "code",
   "execution_count": null,
   "metadata": {},
   "outputs": [],
   "source": []
  }
 ],
 "metadata": {
  "kernelspec": {
   "display_name": "Python 3",
   "language": "python",
   "name": "python3"
  },
  "language_info": {
   "codemirror_mode": {
    "name": "ipython",
    "version": 3
   },
   "file_extension": ".py",
   "mimetype": "text/x-python",
   "name": "python",
   "nbconvert_exporter": "python",
   "pygments_lexer": "ipython3",
   "version": "3.6.5"
  }
 },
 "nbformat": 4,
 "nbformat_minor": 2
}
